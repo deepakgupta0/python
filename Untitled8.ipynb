{
 "cells": [
  {
   "cell_type": "code",
   "execution_count": 27,
   "metadata": {},
   "outputs": [
    {
     "name": "stdout",
     "output_type": "stream",
     "text": [
      "enter any data::aaabaaa\n",
      "a6b1\n"
     ]
    }
   ],
   "source": [
    "data=input(\"enter any data::\")\n",
    "list_of_strings=data.split()\n",
    "temp=\"\"\n",
    "temp2=\"\"\n",
    "for i in range(0,len(list_of_strings)):\n",
    "    temp=\"\"\n",
    "    for j in range(0,len(list_of_strings[i])):\n",
    "        if list_of_strings[i][j] not in temp:\n",
    "            count=list_of_strings[i].count(list_of_strings[i][j])\n",
    "            temp+=list_of_strings[i][j]+str(count)\n",
    "    temp2+=temp\n",
    "            \n",
    "print(temp2)"
   ]
  },
  {
   "cell_type": "code",
   "execution_count": 57,
   "metadata": {},
   "outputs": [
    {
     "ename": "ValueError",
     "evalue": "invalid literal for int() with base 10: 'o'",
     "output_type": "error",
     "traceback": [
      "\u001b[0;31m---------------------------------------------------------------------------\u001b[0m",
      "\u001b[0;31mValueError\u001b[0m                                Traceback (most recent call last)",
      "\u001b[0;32m<ipython-input-57-c139006b1de1>\u001b[0m in \u001b[0;36m<module>\u001b[0;34m()\u001b[0m\n\u001b[1;32m      2\u001b[0m \u001b[0mtemp3\u001b[0m\u001b[0;34m=\u001b[0m\u001b[0;34m''\u001b[0m\u001b[0;34m\u001b[0m\u001b[0m\n\u001b[1;32m      3\u001b[0m \u001b[0;32mfor\u001b[0m \u001b[0mk\u001b[0m \u001b[0;32min\u001b[0m \u001b[0mrange\u001b[0m\u001b[0;34m(\u001b[0m\u001b[0;36m1\u001b[0m\u001b[0;34m,\u001b[0m\u001b[0mlen\u001b[0m\u001b[0;34m(\u001b[0m\u001b[0mtemp2\u001b[0m\u001b[0;34m)\u001b[0m\u001b[0;34m+\u001b[0m\u001b[0;36m1\u001b[0m\u001b[0;34m,\u001b[0m\u001b[0;36m2\u001b[0m\u001b[0;34m)\u001b[0m\u001b[0;34m:\u001b[0m\u001b[0;34m\u001b[0m\u001b[0m\n\u001b[0;32m----> 4\u001b[0;31m     \u001b[0mval\u001b[0m\u001b[0;34m=\u001b[0m\u001b[0mint\u001b[0m\u001b[0;34m(\u001b[0m\u001b[0mtemp2\u001b[0m\u001b[0;34m[\u001b[0m\u001b[0mk\u001b[0m\u001b[0;34m]\u001b[0m\u001b[0;34m)\u001b[0m\u001b[0;34m\u001b[0m\u001b[0m\n\u001b[0m\u001b[1;32m      5\u001b[0m     \u001b[0mn\u001b[0m\u001b[0;34m=\u001b[0m\u001b[0mk\u001b[0m\u001b[0;34m-\u001b[0m\u001b[0;36m1\u001b[0m\u001b[0;34m\u001b[0m\u001b[0m\n\u001b[1;32m      6\u001b[0m     \u001b[0;32mfor\u001b[0m \u001b[0mm\u001b[0m \u001b[0;32min\u001b[0m \u001b[0mrange\u001b[0m\u001b[0;34m(\u001b[0m\u001b[0;36m1\u001b[0m\u001b[0;34m,\u001b[0m\u001b[0mval\u001b[0m\u001b[0;34m+\u001b[0m\u001b[0;36m1\u001b[0m\u001b[0;34m)\u001b[0m\u001b[0;34m:\u001b[0m\u001b[0;34m\u001b[0m\u001b[0m\n",
      "\u001b[0;31mValueError\u001b[0m: invalid literal for int() with base 10: 'o'"
     ]
    }
   ],
   "source": [
    "temp2='h1e1l13o13w9o9r9l7d6'\n",
    "temp3=''\n",
    "for k in range(1,len(temp2)+1,2):\n",
    "    val=int(temp2[k])\n",
    "    n=k-1\n",
    "    for m in range(1,val+1):\n",
    "        temp3+=temp2[n]\n",
    "print(temp3)"
   ]
  },
  {
   "cell_type": "code",
   "execution_count": 25,
   "metadata": {},
   "outputs": [
    {
     "name": "stdout",
     "output_type": "stream",
     "text": [
      "1\n"
     ]
    }
   ],
   "source": [
    "temp2='h1e1l13o13w9o9r9l7d6'\n",
    "print(int(temp2[1]))"
   ]
  },
  {
   "cell_type": "code",
   "execution_count": 38,
   "metadata": {},
   "outputs": [
    {
     "name": "stdout",
     "output_type": "stream",
     "text": [
      "enter any data::mississippi\n",
      "mis2is2ip2i\n"
     ]
    }
   ],
   "source": [
    "data = input(\"enter any data::\")\n",
    "i = 0\n",
    "temp = \"\"\n",
    "while(i < len(data)):\n",
    "    temp += data[i]\n",
    "    count = 1\n",
    "    j = i + 1\n",
    "    while(j < len(data) and data[i] == data[j]):\n",
    "        count += 1\n",
    "        j += 1\n",
    "    if count > 1:\n",
    "        temp += str(count)\n",
    "    i = j\n",
    "print(temp)        \n",
    "        \n",
    "    \n"
   ]
  },
  {
   "cell_type": "code",
   "execution_count": 54,
   "metadata": {},
   "outputs": [
    {
     "name": "stdout",
     "output_type": "stream",
     "text": [
      "[1 2 3]\n",
      "[2 4 6]\n"
     ]
    }
   ],
   "source": [
    "import math\n",
    "math.sin(30)\n",
    "\n",
    "from math import sin # only sin is imported\n",
    "from math import * #all objects are imported(not recommended)\n",
    "sin(30)\n",
    "\n",
    "import math as m\n",
    "m.sin(30)\n",
    "\n",
    "import numpy as np"
   ]
  },
  {
   "cell_type": "code",
   "execution_count": 55,
   "metadata": {},
   "outputs": [],
   "source": [
    "import math\n",
    "si = math.sin"
   ]
  },
  {
   "cell_type": "code",
   "execution_count": 56,
   "metadata": {},
   "outputs": [
    {
     "data": {
      "text/plain": [
       "-0.9880316240928618"
      ]
     },
     "execution_count": 56,
     "metadata": {},
     "output_type": "execute_result"
    }
   ],
   "source": [
    "si(30)"
   ]
  },
  {
   "cell_type": "code",
   "execution_count": 81,
   "metadata": {},
   "outputs": [
    {
     "name": "stdout",
     "output_type": "stream",
     "text": [
      "ENTER YOUR NAME::deepak\n",
      "enter either rock , paper , scissorrock\n",
      "DEEPAK WON\n",
      "DO YOU WANT TO CONTINUE:(Yes/No)?yes\n",
      "enter either rock , paper , scissorpaper\n",
      "DEEPAK WON\n",
      "DO YOU WANT TO CONTINUE:(Yes/No)?no\n",
      "DEEPAK WON THE SERIES\n",
      "BOT SCORE:: 0 DEEPAK SCORE:: 2\n"
     ]
    }
   ],
   "source": [
    "import random\n",
    "user_count = 0\n",
    "bot_count = 0\n",
    "losing_series = [(0,1),(1,2)]\n",
    "lose = {\n",
    "        'rock':'0',\n",
    "        'paper':'1',\n",
    "        'scissor':'2'\n",
    "    }\n",
    "user_name = input(\"ENTER YOUR NAME::\")\n",
    "while True:\n",
    "    user_input = input(\"enter either rock , paper , scissor\").strip()  \n",
    "    ip = int(lose[user_input])\n",
    "    bot_input = random.randint(0,3)\n",
    "    tup = (ip,bot_input)\n",
    "    if tup in losing_series:\n",
    "        print(\"BOT WON\")\n",
    "        bot_count += 1\n",
    "    else:\n",
    "        print(user_name.upper() + \" WON\")\n",
    "        user_count += 1\n",
    "    yn = input(\"DO YOU WANT TO CONTINUE:(Yes/No)?\")\n",
    "    tup = 0\n",
    "    if yn.lower() == 'no':\n",
    "        break\n",
    "if user_count < bot_count:\n",
    "    print(\"BOT WON THE SERIES.\")\n",
    "else:\n",
    "    print(user_name.upper() + \" WON THE SERIES\")\n",
    "    \n",
    "print(\"BOT SCORE::\",bot_count, user_name.upper() + \" SCORE::\", user_count)\n",
    "        \n",
    "    \n"
   ]
  },
  {
   "cell_type": "code",
   "execution_count": 66,
   "metadata": {},
   "outputs": [
    {
     "name": "stdout",
     "output_type": "stream",
     "text": [
      "<class 'tuple'>\n"
     ]
    }
   ],
   "source": [
    "tup=(1,2)\n",
    "print(type(tup))"
   ]
  },
  {
   "cell_type": "code",
   "execution_count": 98,
   "metadata": {},
   "outputs": [
    {
     "name": "stdout",
     "output_type": "stream",
     "text": [
      "A 495\n",
      "B 146\n",
      "C 52\n",
      "D 149\n",
      "E 277\n",
      "F 229\n",
      "G 466\n",
      "H 232\n",
      "I 119\n",
      "J 291\n",
      "K 102\n",
      "L 371\n",
      "M 371\n",
      "N 270\n",
      "O 113\n",
      "P 488\n",
      "Q 500\n",
      "R 427\n",
      "S 345\n",
      "T 476\n",
      "U 381\n",
      "V 368\n",
      "W 150\n",
      "X 267\n",
      "Y 276\n",
      "Z 219\n",
      "LARGEST VALUE:: Q 500\n"
     ]
    }
   ],
   "source": [
    "import random\n",
    "my_dict={}\n",
    "temp=0\n",
    "for i in range(65,91):\n",
    "    my_dict[chr(i)]=random.randint(1,501)\n",
    "for x,y in my_dict.items():\n",
    "    print(x,y)\n",
    "    if y > temp:\n",
    "        temp=y\n",
    "        variable=x\n",
    "print(\"LARGEST VALUE::\",variable,temp)\n",
    "        \n",
    "    \n"
   ]
  },
  {
   "cell_type": "code",
   "execution_count": null,
   "metadata": {},
   "outputs": [],
   "source": []
  }
 ],
 "metadata": {
  "kernelspec": {
   "display_name": "Python 3",
   "language": "python",
   "name": "python3"
  },
  "language_info": {
   "codemirror_mode": {
    "name": "ipython",
    "version": 3
   },
   "file_extension": ".py",
   "mimetype": "text/x-python",
   "name": "python",
   "nbconvert_exporter": "python",
   "pygments_lexer": "ipython3",
   "version": "3.7.0"
  }
 },
 "nbformat": 4,
 "nbformat_minor": 2
}
