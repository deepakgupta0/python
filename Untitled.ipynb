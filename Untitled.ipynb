{
 "cells": [
  {
   "cell_type": "code",
   "execution_count": 23,
   "metadata": {},
   "outputs": [],
   "source": [
    "class Person:\n",
    "    def __init__(self,name=None,age=None):\n",
    "        self.name=name\n",
    "        self.age=age\n",
    "    \n",
    "        "
   ]
  },
  {
   "cell_type": "code",
   "execution_count": 24,
   "metadata": {},
   "outputs": [
    {
     "name": "stdout",
     "output_type": "stream",
     "text": [
      "\n",
      " 1.ADD PERSON \n",
      " 2.VIEW PERSON \n",
      " 3.EXIT\n",
      "\n",
      "choose any one option from the above list.1\n",
      "enter name and agedeepak,19\n",
      "\n",
      " 1.ADD PERSON \n",
      " 2.VIEW PERSON \n",
      " 3.EXIT\n",
      "\n",
      "choose any one option from the above list.1\n",
      "enter name and ageram,21\n",
      "\n",
      " 1.ADD PERSON \n",
      " 2.VIEW PERSON \n",
      " 3.EXIT\n",
      "\n",
      "choose any one option from the above list.1\n",
      "enter name and ageshayam,22\n",
      "\n",
      " 1.ADD PERSON \n",
      " 2.VIEW PERSON \n",
      " 3.EXIT\n",
      "\n",
      "choose any one option from the above list.2\n",
      "the eldest one isshayamwhose age is22\n",
      "\n",
      " 1.ADD PERSON \n",
      " 2.VIEW PERSON \n",
      " 3.EXIT\n",
      "\n",
      "choose any one option from the above list.3\n"
     ]
    }
   ],
   "source": [
    "p=[]\n",
    "while(1):\n",
    "    \n",
    "    print(\"\\n 1.ADD PERSON \\n 2.VIEW PERSON \\n 3.EXIT\\n\")\n",
    "    ip=int(input(\"choose any one option from the above list.\"))\n",
    "    if(ip==1):\n",
    "        name,age=input(\"enter name and age\").split(\",\")\n",
    "        a=Person()\n",
    "        a.__init__(name,int(age))\n",
    "        p.append(a)  \n",
    "    elif(ip==2):\n",
    "        no1=p[0].age\n",
    "        for i in range(0,len(p)):\n",
    "            if p[i].age>no1:\n",
    "                no1=p[i].age\n",
    "                pos=i\n",
    "        print(f\"the eldest one is {p[pos].name} whose age is {no1} \")\n",
    "            \n",
    "    \n",
    "        \n",
    "        \n",
    "    else:\n",
    "        break"
   ]
  },
  {
   "cell_type": "code",
   "execution_count": 9,
   "metadata": {},
   "outputs": [
    {
     "name": "stdout",
     "output_type": "stream",
     "text": [
      "[None, None]\n"
     ]
    }
   ],
   "source": []
  },
  {
   "cell_type": "code",
   "execution_count": 17,
   "metadata": {},
   "outputs": [
    {
     "ename": "IndexError",
     "evalue": "list index out of range",
     "output_type": "error",
     "traceback": [
      "\u001b[0;31m---------------------------------------------------------------------------\u001b[0m",
      "\u001b[0;31mIndexError\u001b[0m                                Traceback (most recent call last)",
      "\u001b[0;32m<ipython-input-17-d658df95fca2>\u001b[0m in \u001b[0;36m<module>\u001b[0;34m()\u001b[0m\n\u001b[0;32m----> 1\u001b[0;31m \u001b[0mp\u001b[0m\u001b[0;34m[\u001b[0m\u001b[0;36m1\u001b[0m\u001b[0;34m]\u001b[0m\u001b[0;34m.\u001b[0m\u001b[0mage\u001b[0m\u001b[0;34m\u001b[0m\u001b[0m\n\u001b[0m",
      "\u001b[0;31mIndexError\u001b[0m: list index out of range"
     ]
    }
   ],
   "source": [
    "p[1].age"
   ]
  },
  {
   "cell_type": "code",
   "execution_count": 21,
   "metadata": {},
   "outputs": [
    {
     "name": "stdout",
     "output_type": "stream",
     "text": [
      "[<__main__.Person object at 0x7f35588a3780>, <__main__.Person object at 0x7f3558864a90>, <__main__.Person object at 0x7f35587fe400>]\n"
     ]
    }
   ],
   "source": [
    "print(p)"
   ]
  },
  {
   "cell_type": "code",
   "execution_count": 39,
   "metadata": {},
   "outputs": [
    {
     "name": "stdout",
     "output_type": "stream",
     "text": [
      "\n",
      " 1.ADD PERSON \n",
      " 2.VIEW PERSON \n",
      " 3.EXIT\n",
      "\n",
      "choose any one option from the above list.1\n",
      "enter name and agedeepak,12\n",
      "\n",
      " 1.ADD PERSON \n",
      " 2.VIEW PERSON \n",
      " 3.EXIT\n",
      "\n",
      "choose any one option from the above list.1\n",
      "enter name and ageram,23\n",
      "\n",
      " 1.ADD PERSON \n",
      " 2.VIEW PERSON \n",
      " 3.EXIT\n",
      "\n",
      "choose any one option from the above list.1\n",
      "enter name and ageshyam,78\n",
      "\n",
      " 1.ADD PERSON \n",
      " 2.VIEW PERSON \n",
      " 3.EXIT\n",
      "\n",
      "choose any one option from the above list.2\n",
      "the eldest one is shyam whose age is 78 \n",
      "\n",
      " 1.ADD PERSON \n",
      " 2.VIEW PERSON \n",
      " 3.EXIT\n",
      "\n",
      "choose any one option from the above list.3\n"
     ]
    }
   ],
   "source": [
    "\n",
    "while(1):\n",
    "    \n",
    "    print(\"\\n 1.ADD PERSON \\n 2.VIEW PERSON \\n 3.EXIT\\n\")\n",
    "    ip=int(input(\"choose any one option from the above list.\"))\n",
    "    if(ip==1):\n",
    "        name,age=input(\"enter name and age\").split(\",\")\n",
    "        a=Person(name,int(age)) \n",
    "    elif(ip==2):\n",
    "        no1=Person.all_persons[0].age\n",
    "        for i in range(0,len(Person.all_persons)):\n",
    "            if Person.all_persons[i].age>no1:\n",
    "                no1=Person.all_persons[i].age\n",
    "                pos=i\n",
    "        print(f\"the eldest one is {Person.all_persons[pos].name} whose age is {no1} \")     \n",
    "        \n",
    "    else:\n",
    "        break "
   ]
  },
  {
   "cell_type": "code",
   "execution_count": 38,
   "metadata": {},
   "outputs": [],
   "source": [
    "class Person:\n",
    "    all_persons=[]\n",
    "    def __init__(self,name=None,age=None):\n",
    "        self.name=name\n",
    "        self.age=age\n",
    "        Person.all_persons.append(self)\n",
    "    def get_age(self):\n",
    "        return self.age\n",
    "    "
   ]
  },
  {
   "cell_type": "code",
   "execution_count": 29,
   "metadata": {},
   "outputs": [],
   "source": [
    "l1=[10,8,235,12,53,99,31]"
   ]
  },
  {
   "cell_type": "code",
   "execution_count": 30,
   "metadata": {},
   "outputs": [],
   "source": [
    "m1=max(l1)"
   ]
  },
  {
   "cell_type": "code",
   "execution_count": 31,
   "metadata": {},
   "outputs": [
    {
     "name": "stdout",
     "output_type": "stream",
     "text": [
      "235\n"
     ]
    }
   ],
   "source": [
    "print(m1)"
   ]
  },
  {
   "cell_type": "code",
   "execution_count": 32,
   "metadata": {},
   "outputs": [],
   "source": [
    "def sod(num):\n",
    "    sum=0\n",
    "    while num!=0:\n",
    "        sum+=num%10\n",
    "        num//=10\n",
    "    return sum\n",
    "    "
   ]
  },
  {
   "cell_type": "code",
   "execution_count": 35,
   "metadata": {},
   "outputs": [
    {
     "name": "stdout",
     "output_type": "stream",
     "text": [
      "236\n"
     ]
    }
   ],
   "source": [
    "l=[10,20,30,40,235,236]\n",
    "m2=max(l,key=sod)\n",
    "print(m2)"
   ]
  },
  {
   "cell_type": "code",
   "execution_count": 36,
   "metadata": {},
   "outputs": [],
   "source": [
    "def get_age_of_person(person):\n",
    "    return person.age"
   ]
  },
  {
   "cell_type": "code",
   "execution_count": 37,
   "metadata": {},
   "outputs": [
    {
     "name": "stdout",
     "output_type": "stream",
     "text": [
      "sheela\n"
     ]
    }
   ],
   "source": [
    "p=max(Person.all_persons,key=get_age_of_person) #func outside the class\n",
    "print(p.name)"
   ]
  },
  {
   "cell_type": "code",
   "execution_count": 44,
   "metadata": {},
   "outputs": [
    {
     "name": "stdout",
     "output_type": "stream",
     "text": [
      "sheela\n"
     ]
    }
   ],
   "source": [
    "p1=max(Person.all_persons,key=Person.get_age) #func inside the class\n",
    "print(p.name)"
   ]
  },
  {
   "cell_type": "code",
   "execution_count": 68,
   "metadata": {},
   "outputs": [],
   "source": [
    "class A:\n",
    "    na=0\n",
    "    def fun(self):\n",
    "        print(\"A\")\n",
    "        A.na+=1\n"
   ]
  },
  {
   "cell_type": "code",
   "execution_count": 69,
   "metadata": {},
   "outputs": [],
   "source": [
    "class B(A):\n",
    "    nb=0\n",
    "    def fun(self):\n",
    "            super().fun()\n",
    "            print(\"B\")\n",
    "            B.nb+=1"
   ]
  },
  {
   "cell_type": "code",
   "execution_count": 70,
   "metadata": {},
   "outputs": [],
   "source": [
    "class C(A):\n",
    "    nc=0\n",
    "    def fun(self):\n",
    "        super().fun()\n",
    "        print(\"C\")\n",
    "        C.nc+=1"
   ]
  },
  {
   "cell_type": "code",
   "execution_count": 72,
   "metadata": {},
   "outputs": [],
   "source": [
    "class D(B,C):\n",
    "    nd=0\n",
    "    def fun(self):\n",
    "        B.fun(self)\n",
    "        C.fun(self)\n",
    "        print(\"D\")\n",
    "        D.nd+=1"
   ]
  },
  {
   "cell_type": "code",
   "execution_count": 73,
   "metadata": {},
   "outputs": [
    {
     "name": "stdout",
     "output_type": "stream",
     "text": [
      "A\n",
      "C\n",
      "B\n",
      "A\n",
      "C\n",
      "D\n",
      "2\n",
      "1\n",
      "2\n",
      "1\n"
     ]
    }
   ],
   "source": [
    "d=D()\n",
    "d.fun()\n",
    "print(A.na)\n",
    "print(B.nb)\n",
    "print(C.nc)\n",
    "print(D.nd)"
   ]
  },
  {
   "cell_type": "code",
   "execution_count": 92,
   "metadata": {},
   "outputs": [],
   "source": [
    "class Person:\n",
    "    all_persons=[]\n",
    "    def __init__(self,name=None,age=None):\n",
    "        self.name=name\n",
    "        self.age=age\n",
    "        Person.all_persons.append(self)\n"
   ]
  },
  {
   "cell_type": "code",
   "execution_count": 95,
   "metadata": {},
   "outputs": [],
   "source": [
    "class Student(Person):\n",
    "    all_distiction=[]\n",
    "    def __init__(self,name,age,percent):\n",
    "        super().__init__(name,age)\n",
    "        self.percent=percent\n",
    "    def get_distinction_students():\n",
    "        for i in range(0,len(Person.all_persons)):\n",
    "            if Person.all_persons[i].percent>75:\n",
    "                Student.all_distinction.append(Person.all_person[i])\n",
    "                print(Student.all_distinction[i].name)\n",
    "                print(Student.all_distinction[i].age)\n",
    "                print(Student.all_distinction[i].percent)\n",
    "                "
   ]
  },
  {
   "cell_type": "code",
   "execution_count": 96,
   "metadata": {},
   "outputs": [
    {
     "data": {
      "text/plain": [
       "<__main__.Student at 0x7f3558844240>"
      ]
     },
     "execution_count": 96,
     "metadata": {},
     "output_type": "execute_result"
    }
   ],
   "source": [
    "Student(\"ram\",19,98)\n",
    "\n",
    "Student(\"shyam\",20,45)\n"
   ]
  },
  {
   "cell_type": "code",
   "execution_count": null,
   "metadata": {},
   "outputs": [],
   "source": []
  },
  {
   "cell_type": "code",
   "execution_count": null,
   "metadata": {},
   "outputs": [],
   "source": []
  }
 ],
 "metadata": {
  "kernelspec": {
   "display_name": "Python 3",
   "language": "python",
   "name": "python3"
  },
  "language_info": {
   "codemirror_mode": {
    "name": "ipython",
    "version": 3
   },
   "file_extension": ".py",
   "mimetype": "text/x-python",
   "name": "python",
   "nbconvert_exporter": "python",
   "pygments_lexer": "ipython3",
   "version": "3.7.0"
  }
 },
 "nbformat": 4,
 "nbformat_minor": 2
}
