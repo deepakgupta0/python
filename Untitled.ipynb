{
 "cells": [
  {
   "cell_type": "code",
   "execution_count": 51,
   "metadata": {},
   "outputs": [],
   "source": [
    "def armstrong(n,c):\n",
    "            d=0\n",
    "            i=0\n",
    "            sum1=0\n",
    "            t=n\n",
    "            while (n!=0):\n",
    "                sum2=1\n",
    "                d=n%10\n",
    "                while i!=c:\n",
    "                    sum2=sum2*d\n",
    "                    i+=1\n",
    "                print(sum2)\n",
    "                sum1=sum1+sum2\n",
    "                n//=10\n",
    "                print(sum1)\n",
    "            if(sum1==t):\n",
    "                print(t,\"is armstrongNO\")\n",
    "            else:\n",
    "                print(t,\"is not armstrongNO\")\n",
    "        \n",
    "    "
   ]
  },
  {
   "cell_type": "code",
   "execution_count": 52,
   "metadata": {},
   "outputs": [
    {
     "name": "stdout",
     "output_type": "stream",
     "text": [
      "ENTER A NO:153\n",
      "27\n",
      "27\n",
      "1\n",
      "28\n",
      "1\n",
      "29\n",
      "153 is not armstrongNO\n"
     ]
    }
   ],
   "source": [
    "a=int(input(\"ENTER A NO:\"))\n",
    "count=0\n",
    "temp=a\n",
    "while (a!=0):\n",
    "    count+=1\n",
    "    a=a//10    \n",
    "armstrong(temp,count)\n",
    "\n"
   ]
  },
  {
   "cell_type": "code",
   "execution_count": null,
   "metadata": {},
   "outputs": [],
   "source": []
  },
  {
   "cell_type": "code",
   "execution_count": null,
   "metadata": {},
   "outputs": [],
   "source": []
  }
 ],
 "metadata": {
  "kernelspec": {
   "display_name": "Python 3",
   "language": "python",
   "name": "python3"
  },
  "language_info": {
   "codemirror_mode": {
    "name": "ipython",
    "version": 3
   },
   "file_extension": ".py",
   "mimetype": "text/x-python",
   "name": "python",
   "nbconvert_exporter": "python",
   "pygments_lexer": "ipython3",
   "version": "3.6.7"
  }
 },
 "nbformat": 4,
 "nbformat_minor": 2
}
