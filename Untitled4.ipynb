{
 "cells": [
  {
   "cell_type": "code",
   "execution_count": 9,
   "metadata": {},
   "outputs": [
    {
     "name": "stdout",
     "output_type": "stream",
     "text": [
      "enter count for strings:3\n",
      "enter a string:abb\n",
      "enter a string:aa\n",
      "enter a string:abc\n",
      "TOTAL COUNT OF SUCH STRINGS: 1\n"
     ]
    }
   ],
   "source": [
    "#ip no of strings;count the no of string whose length is atleast 2 and the first and last character is same.\n",
    "n=int(input(\"enter count for strings:\"))\n",
    "string=[]\n",
    "count=n\n",
    "count1=0\n",
    "i=0\n",
    "while(n!=0):\n",
    "        a=input(\"enter a string:\")\n",
    "        string.append(a)\n",
    "        n-=1\n",
    "while(count!=0):\n",
    "        length=len(string[i])\n",
    "        if(length>=2):\n",
    "           if(string[i][0]==string[i][-1]):\n",
    "                count1+=1\n",
    "        i+=1\n",
    "        count-=1\n",
    "print(\"TOTAL COUNT OF SUCH STRINGS:\",count1)"
   ]
  },
  {
   "cell_type": "code",
   "execution_count": 11,
   "metadata": {},
   "outputs": [
    {
     "name": "stdout",
     "output_type": "stream",
     "text": [
      "[2, 8, 12, 32]\n"
     ]
    }
   ],
   "source": [
    "a=[2,9,5,8,3,15,12,32]\n",
    "b=[x for x in a if x%2==0]\n",
    "print(b)"
   ]
  },
  {
   "cell_type": "code",
   "execution_count": 19,
   "metadata": {},
   "outputs": [
    {
     "name": "stdout",
     "output_type": "stream",
     "text": [
      "[]\n"
     ]
    }
   ],
   "source": [
    "string=[]\n",
    "b=[]\n",
    "count1=0\n",
    "i=0\n",
    "while(n!=0):\n",
    "        a=input(\"enter a string:\")\n",
    "        string.append(a)\n",
    "        n-=1\n",
    "b=[ string for x in string if len(x)>=2 if(string[i][0]==string[i][-1]) ]\n",
    "print(b)"
   ]
  },
  {
   "cell_type": "code",
   "execution_count": 20,
   "metadata": {},
   "outputs": [],
   "source": [
    "name=\"RAHUL\"\n",
    "age=12"
   ]
  },
  {
   "cell_type": "code",
   "execution_count": 21,
   "metadata": {},
   "outputs": [
    {
     "name": "stdout",
     "output_type": "stream",
     "text": [
      "RAHUL is 12 years old\n"
     ]
    }
   ],
   "source": [
    "print(name,\"is\",age,\"years old\")"
   ]
  },
  {
   "cell_type": "code",
   "execution_count": 22,
   "metadata": {},
   "outputs": [
    {
     "name": "stdout",
     "output_type": "stream",
     "text": [
      "RAHUL is 12 years old\n"
     ]
    }
   ],
   "source": [
    "s1=\"%s is %d years old\"%(name,age)\n",
    "print(s1)"
   ]
  },
  {
   "cell_type": "code",
   "execution_count": 24,
   "metadata": {},
   "outputs": [
    {
     "name": "stdout",
     "output_type": "stream",
     "text": [
      "RAHUL is 12 years old\n"
     ]
    }
   ],
   "source": [
    "s2=\"{} is {} years old\".format(name,age)\n",
    "print(s2)"
   ]
  },
  {
   "cell_type": "code",
   "execution_count": 25,
   "metadata": {},
   "outputs": [
    {
     "name": "stdout",
     "output_type": "stream",
     "text": [
      "RAHUL is 12 years old\n"
     ]
    }
   ],
   "source": [
    "s2=\"{0} is {1} years old\".format(name,age)\n",
    "print(s2)"
   ]
  },
  {
   "cell_type": "code",
   "execution_count": 26,
   "metadata": {},
   "outputs": [
    {
     "name": "stdout",
     "output_type": "stream",
     "text": [
      "12 is RAHUL years old\n"
     ]
    }
   ],
   "source": [
    "s2=\"{1} is {0} years old\".format(name,age)\n",
    "print(s2)"
   ]
  },
  {
   "cell_type": "code",
   "execution_count": 29,
   "metadata": {},
   "outputs": [
    {
     "ename": "KeyError",
     "evalue": "'name'",
     "output_type": "error",
     "traceback": [
      "\u001b[0;31m---------------------------------------------------------------------------\u001b[0m",
      "\u001b[0;31mKeyError\u001b[0m                                  Traceback (most recent call last)",
      "\u001b[0;32m<ipython-input-29-ce8f71b703a7>\u001b[0m in \u001b[0;36m<module>\u001b[0;34m()\u001b[0m\n\u001b[0;32m----> 1\u001b[0;31m \u001b[0ms2\u001b[0m\u001b[0;34m=\u001b[0m\u001b[0;34m\"{name} is {age} years old\"\u001b[0m\u001b[0;34m.\u001b[0m\u001b[0mformat\u001b[0m\u001b[0;34m(\u001b[0m\u001b[0mname\u001b[0m\u001b[0;34m,\u001b[0m\u001b[0mage\u001b[0m\u001b[0;34m)\u001b[0m\u001b[0;34m\u001b[0m\u001b[0m\n\u001b[0m\u001b[1;32m      2\u001b[0m \u001b[0mprint\u001b[0m\u001b[0;34m(\u001b[0m\u001b[0ms2\u001b[0m\u001b[0;34m)\u001b[0m\u001b[0;34m\u001b[0m\u001b[0m\n",
      "\u001b[0;31mKeyError\u001b[0m: 'name'"
     ]
    }
   ],
   "source": [
    "s2=\"{name} is {age} years old\"\n",
    "\n",
    ".format(name,age)\n",
    "print(s2)"
   ]
  },
  {
   "cell_type": "code",
   "execution_count": 30,
   "metadata": {},
   "outputs": [
    {
     "name": "stdout",
     "output_type": "stream",
     "text": [
      "rahul is 12 years old\n"
     ]
    }
   ],
   "source": [
    "s2=\"{name} is {age} years old\".format(name=\"rahul\",age=12)\n",
    "print(s2)"
   ]
  },
  {
   "cell_type": "code",
   "execution_count": 33,
   "metadata": {},
   "outputs": [
    {
     "name": "stdout",
     "output_type": "stream",
     "text": [
      "RAHUL is 12 years old\n"
     ]
    }
   ],
   "source": [
    "s2=\"{myfriend} is {age} years old\".format(myfriend=name,age=age)\n",
    "print(s2)"
   ]
  },
  {
   "cell_type": "code",
   "execution_count": 41,
   "metadata": {},
   "outputs": [],
   "source": [
    "list1=[\"manali\",\"shimla\",\"manali\",\"sikkim\",\"shimla\"]"
   ]
  },
  {
   "cell_type": "code",
   "execution_count": 43,
   "metadata": {},
   "outputs": [
    {
     "name": "stdout",
     "output_type": "stream",
     "text": [
      "['manali', 'manali', 'sikkim', 'shimla']\n"
     ]
    }
   ],
   "source": [
    "del list1[1]\n",
    "print(list1)"
   ]
  },
  {
   "cell_type": "code",
   "execution_count": 42,
   "metadata": {},
   "outputs": [
    {
     "ename": "AttributeError",
     "evalue": "'list' object has no attribute 'items'",
     "output_type": "error",
     "traceback": [
      "\u001b[0;31m---------------------------------------------------------------------------\u001b[0m",
      "\u001b[0;31mAttributeError\u001b[0m                            Traceback (most recent call last)",
      "\u001b[0;32m<ipython-input-42-fcb35cd4c5a7>\u001b[0m in \u001b[0;36m<module>\u001b[0;34m()\u001b[0m\n\u001b[0;32m----> 1\u001b[0;31m \u001b[0mlist1\u001b[0m\u001b[0;34m.\u001b[0m\u001b[0mitems\u001b[0m\u001b[0;34m(\u001b[0m\u001b[0;34m)\u001b[0m\u001b[0;34m\u001b[0m\u001b[0m\n\u001b[0m",
      "\u001b[0;31mAttributeError\u001b[0m: 'list' object has no attribute 'items'"
     ]
    }
   ],
   "source": [
    "list1.items()"
   ]
  },
  {
   "cell_type": "code",
   "execution_count": 49,
   "metadata": {},
   "outputs": [
    {
     "name": "stdout",
     "output_type": "stream",
     "text": [
      "list does not contains duplicate\n"
     ]
    }
   ],
   "source": [
    "j=0\n",
    "list1=[\"manali\",\"shimla\"]\n",
    "for i in list1:\n",
    "    x=list1.count(list1[j])\n",
    "    if(x==2):\n",
    "        break\n",
    "if(x==2):\n",
    "     print(\"list contains duplicate\")\n",
    "else:\n",
    "    print(\"list does not contains duplicate\")\n",
    "       "
   ]
  },
  {
   "cell_type": "code",
   "execution_count": 52,
   "metadata": {},
   "outputs": [
    {
     "name": "stdout",
     "output_type": "stream",
     "text": [
      "LIST OF DUPLICATES: ['shimla', 'sikkim', 'shimla', 'sikkim']\n",
      "LIST OF NON-DUPLICATES: ['manali', 'manali', 'manali', 'manali']\n"
     ]
    }
   ],
   "source": [
    "j=0\n",
    "list2=[]\n",
    "list3=[]\n",
    "list1=[\"manali\",\"shimla\",\"sikkim\",\"manali\",\"manali\",\"shimla\",\"sikkim\",\"manali\"]\n",
    "for i in list1:\n",
    "    x=list1.count(list1[j])\n",
    "    if(x==2):\n",
    "        list2.append(list1[j])\n",
    "    else:\n",
    "        list3.append(list1[j])\n",
    "    j+=1\n",
    "print(\"LIST OF DUPLICATES:\",list2)\n",
    "print(\"LIST OF NON-DUPLICATES:\",list3)"
   ]
  },
  {
   "cell_type": "code",
   "execution_count": 54,
   "metadata": {},
   "outputs": [
    {
     "name": "stdout",
     "output_type": "stream",
     "text": [
      "{50, 20}\n"
     ]
    }
   ],
   "source": [
    "j=0\n",
    "list2=[20,50,70]\n",
    "list3=[]\n",
    "list1=[10,20,30,40,50]\n",
    "l4=set(list1).intersection(list2)\n",
    "print(l4)\n",
    "    "
   ]
  },
  {
   "cell_type": "code",
   "execution_count": 55,
   "metadata": {},
   "outputs": [
    {
     "name": "stdout",
     "output_type": "stream",
     "text": [
      "[20, 50]\n"
     ]
    }
   ],
   "source": [
    "list2=[20,50,70]\n",
    "list3=[]\n",
    "list1=[10,20,30,40,50]\n",
    "l3=[x for x in list1 if x in list2]\n",
    "print(l3)"
   ]
  },
  {
   "cell_type": "code",
   "execution_count": 57,
   "metadata": {},
   "outputs": [
    {
     "name": "stdout",
     "output_type": "stream",
     "text": [
      "{50, 20}\n"
     ]
    },
    {
     "data": {
      "text/plain": [
       "set"
      ]
     },
     "execution_count": 57,
     "metadata": {},
     "output_type": "execute_result"
    }
   ],
   "source": [
    "l5=set(list1)&set(list2)\n",
    "print(l5)"
   ]
  },
  {
   "cell_type": "code",
   "execution_count": 59,
   "metadata": {},
   "outputs": [
    {
     "name": "stdout",
     "output_type": "stream",
     "text": [
      "{50, 20, 70, 40, 10, 30}\n"
     ]
    }
   ],
   "source": [
    "a=set(list1)|set(list2)\n",
    "print(a)"
   ]
  },
  {
   "cell_type": "code",
   "execution_count": 69,
   "metadata": {},
   "outputs": [
    {
     "name": "stdout",
     "output_type": "stream",
     "text": [
      "1 2 3 \n",
      "4 5 6 \n",
      "7 8 9 \n"
     ]
    }
   ],
   "source": [
    "my_matrix=[[1,2,3],\n",
    "           [4,5,6],\n",
    "          [7,8,9]]\n",
    "for row in my_matrix:\n",
    "    for e in row:\n",
    "        print(e,end=\" \")\n",
    "    print()"
   ]
  },
  {
   "cell_type": "code",
   "execution_count": 71,
   "metadata": {},
   "outputs": [
    {
     "name": "stdout",
     "output_type": "stream",
     "text": [
      "[1, 2, 3, 4, 5, 6, 7, 8, 9]\n"
     ]
    }
   ],
   "source": [
    "my_matrix=[[1,2,3],\n",
    "           [4,5,6],\n",
    "          [7,8,9]]\n",
    "list=[]\n",
    "for row in my_matrix:\n",
    "    for e in row:\n",
    "        list.append(e)\n",
    "print(list)"
   ]
  },
  {
   "cell_type": "code",
   "execution_count": 73,
   "metadata": {},
   "outputs": [
    {
     "name": "stdout",
     "output_type": "stream",
     "text": [
      "[1, 2, 3, 4, 5, 6, 7, 8, 9]\n"
     ]
    }
   ],
   "source": [
    "my_matrix=[[1,2,3],\n",
    "           [4,5,6],\n",
    "          [7,8,9]]\n",
    "list1=[e for row in my_matrix for e in row]\n",
    "print(list1)"
   ]
  },
  {
   "cell_type": "code",
   "execution_count": null,
   "metadata": {},
   "outputs": [],
   "source": []
  }
 ],
 "metadata": {
  "kernelspec": {
   "display_name": "Python 3",
   "language": "python",
   "name": "python3"
  },
  "language_info": {
   "codemirror_mode": {
    "name": "ipython",
    "version": 3
   },
   "file_extension": ".py",
   "mimetype": "text/x-python",
   "name": "python",
   "nbconvert_exporter": "python",
   "pygments_lexer": "ipython3",
   "version": "3.7.0"
  }
 },
 "nbformat": 4,
 "nbformat_minor": 2
}
